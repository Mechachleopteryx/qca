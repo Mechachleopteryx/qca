{
 "cells": [
  {
   "cell_type": "code",
   "execution_count": 1,
   "metadata": {},
   "outputs": [],
   "source": [
    "import sys\n",
    "sys.path.append(\"../\")  # look one directory up for qca modules, TODO: make a package\n",
    "from copy import copy\n",
    "from qca import QCA\n",
    "from states import make_state\n",
    "from mpl_toolkits import mplot3d\n",
    "from matplotlib import cm\n",
    "from scipy.optimize import curve_fit\n",
    "from os import makedirs\n",
    "import matplotlib.pyplot as plt\n",
    "import measures as ms\n",
    "import numpy as np\n",
    "%matplotlib inline"
   ]
  },
  {
   "cell_type": "code",
   "execution_count": 2,
   "metadata": {},
   "outputs": [],
   "source": [
    "der = \"/home/lhillber/documents/research/cellular_automata/qeca/qca/data\"\n",
    "params_template = dict(\n",
    "              L=11,\n",
    "              T=1000.0,\n",
    "              dt=1.0,\n",
    "              R=6,\n",
    "              r=1,\n",
    "              V=\"H\",\n",
    "              BC=\"1-00\",\n",
    "              IC=\"c1_f0\",\n",
    "              E=0.0068,\n",
    "              N=1000,\n",
    "              totalistic=False,\n",
    "              hamiltonian=False,\n",
    "              trotter=True,\n",
    "              symmetric=False)"
   ]
  },
  {
   "cell_type": "code",
   "execution_count": 3,
   "metadata": {},
   "outputs": [],
   "source": [
    "def exponential_fit(x, y):\n",
    "    m, b = np.polyfit(x, np.log(y), deg=1)\n",
    "    def func(x):\n",
    "        return np.exp(b + m*x)\n",
    "    return m, b, func"
   ]
  },
  {
   "cell_type": "code",
   "execution_count": 4,
   "metadata": {},
   "outputs": [],
   "source": [
    "params1 = copy(params_template)\n",
    "params2 = copy(params_template)\n",
    "params2.update({\"E\":0.0, \"N\":1})\n",
    "Q1 = QCA(params1, der=der)\n",
    "Q2 = QCA(params2, der=der)\n",
    "F = np.array([ms.get_bitstring_fidelity(p, q) for p, q in zip(Q1.bitstring, Q2.bitstring)])"
   ]
  },
  {
   "cell_type": "code",
   "execution_count": 5,
   "metadata": {},
   "outputs": [],
   "source": [
    "C = 1 - (Q2.C(2)[1:]-Q1.C(2)[1:])/Q2.C(2)[1:]\n",
    "Y = 1 - (Q2.Y(2)[1:]-Q1.Y(2)[1:])/Q2.Y(2)[1:]\n",
    "t = Q1.ts[1:]"
   ]
  },
  {
   "cell_type": "code",
   "execution_count": 9,
   "metadata": {},
   "outputs": [
    {
     "data": {
      "image/png": "[encoded data removed]",
      "text/plain": [
       "<Figure size 288x172.8 with 1 Axes>"
      ]
     },
     "metadata": {
      "needs_background": "light"
     },
     "output_type": "display_data"
    }
   ],
   "source": [
    "fig, ax = plt.subplots(1,1, figsize=(4, 2.4))\n",
    "tmax=100\n",
    "x = t[:tmax]\n",
    "yF = F[:tmax]\n",
    "yC = C[:tmax]\n",
    "yY = Y[:tmax]\n",
    "mF, bF, funcF = exponential_fit(x, yF)\n",
    "mC, bC, funcC = exponential_fit(x, yC)\n",
    "mY, bY, funcY = exponential_fit(x, yY)\n",
    "ax.plot(x, yF, marker=\"o\", ms=2, ls=\"none\", label=\"fidelity\")\n",
    "ax.plot(x, yC, marker=\"o\", ms=2, ls=\"none\", label=\"clustering\")\n",
    "ax.plot(x, yY, marker=\"o\", ms=2, ls=\"none\", label=\"disparity\")\n",
    "ax.plot(x, funcF(x), c=\"k\", ls=\"--\")\n",
    "ax.plot(x, funcC(x), c=\"k\", ls=\"--\")\n",
    "ax.plot(x, funcY(x), c=\"k\", ls=\"--\")\n",
    "ax.text(55, 2.5e-1, f\"t0 = {np.round(mF,3)}\")\n",
    "ax.text(45, 1e-2, f\"t0 = {np.round(mC,3)}\")\n",
    "ax.text(65, .8, f\"t0 = {np.round(mY,3)}\")\n",
    "ax.set_ylabel(\"Similarity\")\n",
    "ax.set_xlabel(\"Time, t\")\n",
    "ax.set_yscale(\"log\")\n",
    "ax.legend()\n",
    "plt.savefig(\"similarity_fits.pdf\", bbox_inches=\"tight\")"
   ]
  },
  {
   "cell_type": "code",
   "execution_count": 8,
   "metadata": {},
   "outputs": [
    {
     "name": "stderr",
     "output_type": "stream",
     "text": [
      "<ipython-input-3-1517a17968c2>:2: RuntimeWarning: invalid value encountered in log\n",
      "  m, b = np.polyfit(x, np.log(y), deg=1)\n"
     ]
    },
    {
     "data": {
      "image/png": "[encoded data removed]",
      "text/plain": [
       "<Figure size 288x172.8 with 1 Axes>"
      ]
     },
     "metadata": {
      "needs_background": "light"
     },
     "output_type": "display_data"
    }
   ],
   "source": [
    "fig, ax = plt.subplots(1,1, figsize=(4, 2.4))\n",
    "tmax = 1000\n",
    "x = t[:tmax]\n",
    "yF = F[:tmax]\n",
    "yC = C[:tmax]\n",
    "yY = Y[:tmax]\n",
    "mF, bF, funcF = exponential_fit(x, yF)\n",
    "mC, bC, funcC = exponential_fit(x, yC)\n",
    "mY, bY, funcY = exponential_fit(x, yY)\n",
    "ax.plot(x, yF, marker=\"o\", ms=2, ls=\"none\", label=\"fidelity\")\n",
    "ax.plot(x, yC, marker=\"o\", ms=2, ls=\"none\", label=\"clustering\")\n",
    "ax.plot(x, yY, marker=\"o\", ms=2, ls=\"none\", label=\"disparity\")\n",
    "ax.set_ylabel(\"Similarity\")\n",
    "ax.set_xlabel(\"Time, t\")\n",
    "ax.set_yscale(\"log\")\n",
    "ax.legend()\n",
    "plt.savefig(\"similarity_full-time.pdf\", bbox_inches=\"tight\")"
   ]
  },
  {
   "cell_type": "code",
   "execution_count": null,
   "metadata": {},
   "outputs": [],
   "source": []
  }
 ],
 "metadata": {
  "kernelspec": {
   "display_name": "Python 3",
   "language": "python",
   "name": "python3"
  },
  "language_info": {
   "codemirror_mode": {
    "name": "ipython",
    "version": 3
   },
   "file_extension": ".py",
   "mimetype": "text/x-python",
   "name": "python",
   "nbconvert_exporter": "python",
   "pygments_lexer": "ipython3",
   "version": "3.8.3"
  }
 },
 "nbformat": 4,
 "nbformat_minor": 4
}
